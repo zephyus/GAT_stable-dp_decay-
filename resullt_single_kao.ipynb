{
 "cells": [
  {
   "cell_type": "code",
   "execution_count": 1,
   "metadata": {},
   "outputs": [],
   "source": [
    "import matplotlib.pyplot as plt\n",
    "import matplotlib.ticker as mtick\n",
    "import matplotlib\n",
    "matplotlib.rcParams['pdf.fonttype'] = 42\n",
    "matplotlib.rcParams['ps.fonttype'] = 42\n",
    "matplotlib.rcParams['font.family'] = 'Times New Roman'\n",
    "import seaborn as sns\n",
    "sns.set_color_codes()\n",
    "import pandas as pd\n",
    "import numpy as np\n",
    "import os\n",
    "import math\n",
    "from matplotlib.ticker import FuncFormatter"
   ]
  },
  {
   "cell_type": "code",
   "execution_count": 2,
   "metadata": {},
   "outputs": [
    {
     "name": "stdout",
     "output_type": "stream",
     "text": [
      "ma2c_nclm\n",
      "avg_queue: mean 0.63, min 0.00, max: 0.97\n",
      "avg_speed_mps: mean 1.63, min 0.00, max: 12.36\n",
      "avg_wait_sec: mean 125.90, min 0.00, max: 192.67\n",
      "number_arrived_car: mean 0.24, min 0.00, max: 0.64\n",
      "wait_sec: mean 478, max 3330\n",
      "R_bar: mean -277.03, std 106.47\n",
      "reward: mean -277.03, min -708.18, max: 210.18\n"
     ]
    }
   ],
   "source": [
    "# # ATSC Grid\n",
    "prefix = 'atsc_kao_net'\n",
    "# # ATSC Monaco\n",
    "# prefix = 'atsc_real_net'\n",
    "table_names = ['traffic', 'trip', 'control']\n",
    "test_dir = 'training/'\n",
    "test_map = 'kao/'\n",
    "parameters = 'extend_range/'\n",
    "algo = 'ma2c_nclm'\n",
    "def load_summarize_data():\n",
    "    data = {}\n",
    "    print(algo)\n",
    "    data[algo] = {}\n",
    "    for tab in table_names:\n",
    "        data_dir = test_dir + test_map + parameters + algo + '/eva_data/' + ('%s_%s_%s.csv' % (prefix, \"ma2c_nclm\", tab))\n",
    "        df = pd.read_csv(data_dir)\n",
    "        if tab == 'control':\n",
    "            col_names = ['reward']\n",
    "        elif tab == 'traffic':\n",
    "            col_names = ['avg_queue', 'avg_speed_mps', 'avg_wait_sec', 'number_arrived_car']\n",
    "        else:\n",
    "            col_names = ['wait_sec']\n",
    "        print_metrics(df, col_names, tab)\n",
    "        data[algo][tab] = df\n",
    "    return data  \n",
    "            \n",
    "def print_metrics(df, col_names, tab_name):\n",
    "    if tab_name == 'control':\n",
    "        rewards = df.groupby(['episode']).reward.mean()\n",
    "        mean_reward = np.mean(rewards.values)\n",
    "        std_reward = np.std(rewards.values)\n",
    "        print('R_bar: mean %.2f, std %.2f' % (mean_reward, std_reward))\n",
    "    episodes = list(df.episode.unique())\n",
    "    num_episode = len(episodes)\n",
    "    for name in col_names:\n",
    "        if tab_name != 'trip':\n",
    "            res = df.loc[df.episode == episodes[0], name].values\n",
    "            for episode in episodes[1:]:\n",
    "                res += df.loc[df.episode == episode, name].values\n",
    "            res = res / num_episode\n",
    "            print('%s: mean %.2f, min %.2f, max: %.2f' % (name, np.mean(res), np.min(res), np.max(res)))\n",
    "        else:\n",
    "            res = []\n",
    "            for episode in episodes:\n",
    "                res += list(df.loc[df.episode == episode, name].values)\n",
    "            print('%s: mean %d, max %d' % (name, np.mean(res), np.max(res)))\n",
    "            \n",
    "data = load_summarize_data()"
   ]
  }
 ],
 "metadata": {
  "interpreter": {
   "hash": "30295c5bec572e859485b1ffa5e89b8b3e2022ef6e3e739c1ac40f143a557caf"
  },
  "kernelspec": {
   "display_name": "Python 3.6.15 64-bit",
   "language": "python",
   "name": "python3"
  },
  "language_info": {
   "codemirror_mode": {
    "name": "ipython",
    "version": 3
   },
   "file_extension": ".py",
   "mimetype": "text/x-python",
   "name": "python",
   "nbconvert_exporter": "python",
   "pygments_lexer": "ipython3",
   "version": "3.6.15"
  },
  "orig_nbformat": 4
 },
 "nbformat": 4,
 "nbformat_minor": 2
}
